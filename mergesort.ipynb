{
 "cells": [
  {
   "cell_type": "code",
   "execution_count": 1,
   "metadata": {},
   "outputs": [],
   "source": [
    "a=[2,4,6,8,11,13]\n",
    "b=[1,2,3,4,9,16,21]"
   ]
  },
  {
   "cell_type": "code",
   "execution_count": 3,
   "metadata": {},
   "outputs": [
    {
     "name": "stdout",
     "output_type": "stream",
     "text": [
      "[1, 2, 2, 3, 4, 4, 6, 8, 9, 11, 13, 16, 21]\n",
      "[1, 2, 2, 3, 4, 4, 6, 8, 9, 11, 13, 16, 21]\n"
     ]
    }
   ],
   "source": [
    "c= list(sorted(a+b))\n",
    "d=sorted(a+b)\n",
    "print(c)\n",
    "print(d)"
   ]
  },
  {
   "cell_type": "code",
   "execution_count": 8,
   "metadata": {},
   "outputs": [
    {
     "name": "stdout",
     "output_type": "stream",
     "text": [
      "[1, 2, 2, 3, 4, 4, 6, 8, 9, 11, 13, 16, 21]\n"
     ]
    }
   ],
   "source": [
    "import heapq\n",
    "\n",
    "e=list(heapq.merge(a,b))\n",
    "print(e)"
   ]
  },
  {
   "cell_type": "code",
   "execution_count": 30,
   "metadata": {},
   "outputs": [
    {
     "name": "stdout",
     "output_type": "stream",
     "text": [
      "Before: [27, 10, 12, 20, 25, 13, 15, 22] \n",
      "\n",
      "After: [10, 12, 13, 15, 20, 22, 25, 27]\n"
     ]
    }
   ],
   "source": [
    "def mergesort2 (S, left, right):\n",
    "    if(left< right):\n",
    "        mid = (left + right) // 2\n",
    "        mergesort2(S, left, mid)\n",
    "        mergesort2(S, mid+1, right)\n",
    "        merge2(S,left, mid,right)\n",
    "        \n",
    "def merge2(S, left, mid, right):\n",
    "    U=[]\n",
    "    i=left\n",
    "    j=mid + 1\n",
    "    while(i<=mid and j <=right):\n",
    "        if (S[i]<S[j]):\n",
    "            U.append(S[i])\n",
    "            i+=1\n",
    "        else:\n",
    "            U.append(S[j])\n",
    "            j+=1\n",
    "    if(i<=mid):\n",
    "        U += S[i:mid+1]\n",
    "    else: \n",
    "        U+= S[j:right+1]\n",
    "\n",
    "    for k in range(left, right+1):\n",
    "        S[k]= U[k-left]\n",
    "            \n",
    "    \n",
    "S=[27, 10, 12, 20, 25,13, 15,22]\n",
    "print(\"Before:\", S, \"\\n\")\n",
    "mergesort2(S,0,len(S)-1)\n",
    "print(\"After:\", S)"
   ]
  },
  {
   "cell_type": "code",
   "execution_count": 68,
   "metadata": {},
   "outputs": [
    {
     "name": "stdout",
     "output_type": "stream",
     "text": [
      "Before: [27, 10, 12, 20, 25, 13, 15, 22] \n",
      "\n",
      "[10, 27]\n",
      "[12, 20]\n",
      "[10, 12, 20, 27]\n",
      "[13, 25]\n",
      "[15, 22]\n",
      "[13, 15, 22, 25]\n",
      "[10, 12, 13, 15, 20, 22, 25, 27]\n",
      "After: [10, 12, 13, 15, 20, 22, 25, 27]\n"
     ]
    }
   ],
   "source": [
    "def mergesort2 (S, left, right):\n",
    "    if(left< right):\n",
    "        mid = (left + right) // 2\n",
    "        mergesort2(S, left, mid)\n",
    "        mergesort2(S, mid+1, right)\n",
    "        merge2(S,left,right)\n",
    "        \n",
    "def merge2(S, left, right):\n",
    "    U=[]\n",
    "    i=left\n",
    "    mid = (left + right) // 2\n",
    "    j=mid + 1\n",
    "    while(i<=mid and j <=right):\n",
    "        if (S[i]<S[j]):\n",
    "            U.append(S[i])\n",
    "            i+=1\n",
    "        else:\n",
    "            U.append(S[j])\n",
    "            j+=1\n",
    "    if(i<=mid):\n",
    "        U += S[i:mid+1]\n",
    "    else: \n",
    "        U+= S[j:right+1]\n",
    "\n",
    "    print(U)\n",
    "    for k in range(left, right+1):\n",
    "        S[k]= U[k-left]\n",
    "            \n",
    "    \n",
    "S=[27, 10, 12, 20, 25,13, 15,22]\n",
    "print(\"Before:\", S, \"\\n\")\n",
    "mergesort2(S,0,len(S)-1)\n",
    "print(\"After:\", S)"
   ]
  },
  {
   "cell_type": "code",
   "execution_count": 54,
   "metadata": {},
   "outputs": [
    {
     "name": "stdout",
     "output_type": "stream",
     "text": [
      "[['II'], ['IV'], ['IX'], ['IL'], ['VI'], ['VV'], ['VX'], ['VL'], ['XI'], ['XV'], ['XX'], ['XL'], ['LI'], ['LV'], ['LX'], ['LL']]\n"
     ]
    }
   ],
   "source": [
    "a=[\"I\",\"V\",\"X\",\"L\"]\n",
    "b=[]\n",
    "\n",
    "for i in range(len(a)):\n",
    "    for j in range(len(a)):\n",
    "        b.append([a[i]+a[j]])\n",
    "print(b)        \n"
   ]
  },
  {
   "cell_type": "code",
   "execution_count": 62,
   "metadata": {},
   "outputs": [
    {
     "name": "stdout",
     "output_type": "stream",
     "text": [
      "['II', 'IV', 'IX', 'IL', 'VI', 'VV', 'VX', 'VL', 'XI', 'XV', 'XX', 'XL', 'LI', 'LV', 'LX', 'LL']\n"
     ]
    }
   ],
   "source": [
    "a=[\"I\",\"V\",\"X\",\"L\"]\n",
    "b=[]\n",
    "\n",
    "for i in range(len(a)):\n",
    "    for j in range(len(a)):\n",
    "        b.append(a[i]+a[j])\n",
    "print(b)        \n"
   ]
  },
  {
   "cell_type": "code",
   "execution_count": null,
   "metadata": {},
   "outputs": [],
   "source": [
    "def TextToNum:\n",
    "    for k in range(b):\n",
    "        if I in b[i]"
   ]
  },
  {
   "cell_type": "code",
   "execution_count": 64,
   "metadata": {},
   "outputs": [
    {
     "name": "stdout",
     "output_type": "stream",
     "text": [
      "35\n",
      "10\n",
      "100\n"
     ]
    }
   ],
   "source": [
    "class solution:\n",
    "    def roman_to_int(self, s):\n",
    "        rom_val = {'I': 1, 'V': 5, 'X': 10, 'L': 50, 'C': 100, 'D': 500, 'M': 1000}\n",
    "        int_val = 0\n",
    "        for i in range(len(s)):\n",
    "            if i > 0 and rom_val[s[i]] > rom_val[s[i - 1]]:\n",
    "                int_val += rom_val[s[i]] - 2 * rom_val[s[i - 1]]\n",
    "            else:\n",
    "                int_val += rom_val[s[i]]\n",
    "        return int_val\n",
    "print(solution().roman_to_int('XXXV'))\n",
    "print(solution().roman_to_int('IXI'))\n",
    "print(solution().roman_to_int('C'))"
   ]
  },
  {
   "cell_type": "code",
   "execution_count": 65,
   "metadata": {},
   "outputs": [
    {
     "name": "stdout",
     "output_type": "stream",
     "text": [
      "1\n"
     ]
    }
   ],
   "source": [
    "A=[\"VVVVVD\"]\n",
    "print(len(A))"
   ]
  },
  {
   "cell_type": "code",
   "execution_count": 47,
   "metadata": {},
   "outputs": [
    {
     "name": "stdout",
     "output_type": "stream",
     "text": [
      "II\n",
      "VV\n",
      "XX\n",
      "LL\n"
     ]
    }
   ],
   "source": [
    "a=[\"I\",\"V\",\"X\",\"L\"]\n",
    "b=[\"I\",\"V\",\"X\",\"L\"]\n",
    "for i in range(4):\n",
    "    print(a[i]+b[i])"
   ]
  }
 ],
 "metadata": {
  "kernelspec": {
   "display_name": "Python 3",
   "language": "python",
   "name": "python3"
  },
  "language_info": {
   "codemirror_mode": {
    "name": "ipython",
    "version": 3
   },
   "file_extension": ".py",
   "mimetype": "text/x-python",
   "name": "python",
   "nbconvert_exporter": "python",
   "pygments_lexer": "ipython3",
   "version": "3.8.3"
  }
 },
 "nbformat": 4,
 "nbformat_minor": 4
}
